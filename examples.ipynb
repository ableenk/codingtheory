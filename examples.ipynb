{
 "cells": [
  {
   "cell_type": "code",
   "execution_count": 1,
   "id": "8d61a19a-b5ba-4771-8cb4-d4ab11779cb5",
   "metadata": {},
   "outputs": [],
   "source": [
    "import numpy as np\n",
    "\n",
    "from codingtheory import codingtheory as ct\n",
    "from codingtheory.codingtheory import BinaryPolynomial"
   ]
  },
  {
   "cell_type": "code",
   "execution_count": 9,
   "id": "cca6b17f-fc5a-4065-bdd1-5abde7dcb43e",
   "metadata": {},
   "outputs": [],
   "source": [
    "# SET PARAMETERS, BE SHURE GENERATING POLYNOMIAL IS DIVIDING (X^length - 1)\n",
    "length = 25\n",
    "generating_polynomial = 'x^21+x^20+x^16+x^15+x^11+x^10+x^6+x^5+x+1'"
   ]
  },
  {
   "cell_type": "code",
   "execution_count": 12,
   "id": "e5d8bd18-c7bb-435c-99d2-251fa98b1132",
   "metadata": {},
   "outputs": [
    {
     "data": {
      "text/plain": [
       "[1, 1, 0, 0, 0, 1, 1, 0, 0, 0, 1, 1, 0, 0, 0, 1, 1, 0, 0, 0, 1, 1]"
      ]
     },
     "execution_count": 12,
     "metadata": {},
     "output_type": "execute_result"
    }
   ],
   "source": [
    "ct.get_polynomial_coefs(generating_polynomial)"
   ]
  },
  {
   "cell_type": "code",
   "execution_count": 10,
   "id": "b0966c5d-5564-4fcd-b131-72cb91b597f3",
   "metadata": {},
   "outputs": [
    {
     "ename": "TypeError",
     "evalue": "Argument 'coeffs' must be an instance of (<class 'list'>, <class 'tuple'>, <class 'numpy.ndarray'>, <class 'galois.Array'>), not <class 'str'>.",
     "output_type": "error",
     "traceback": [
      "\u001b[0;31m---------------------------------------------------------------------------\u001b[0m",
      "\u001b[0;31mTypeError\u001b[0m                                 Traceback (most recent call last)",
      "Cell \u001b[0;32mIn[10], line 1\u001b[0m\n\u001b[0;32m----> 1\u001b[0m code_diameter, multiplier \u001b[38;5;241m=\u001b[39m \u001b[43mct\u001b[49m\u001b[38;5;241;43m.\u001b[39;49m\u001b[43mcode_minimum_distance\u001b[49m\u001b[43m(\u001b[49m\u001b[43mgenerating_polynomial\u001b[49m\u001b[43m,\u001b[49m\u001b[43m \u001b[49m\u001b[43mlength\u001b[49m\u001b[43m,\u001b[49m\u001b[43m \u001b[49m\u001b[43mlog\u001b[49m\u001b[38;5;241;43m=\u001b[39;49m\u001b[38;5;28;43;01mFalse\u001b[39;49;00m\u001b[43m)\u001b[49m\n\u001b[1;32m      2\u001b[0m \u001b[38;5;28mprint\u001b[39m(\u001b[38;5;124mf\u001b[39m\u001b[38;5;124m\"\u001b[39m\u001b[38;5;124mcode minimum distance d = \u001b[39m\u001b[38;5;132;01m{\u001b[39;00mcode_diameter\u001b[38;5;132;01m}\u001b[39;00m\u001b[38;5;124m with multiplier m(x) = \u001b[39m\u001b[38;5;132;01m{\u001b[39;00mmultiplier\u001b[38;5;132;01m}\u001b[39;00m\u001b[38;5;124m\"\u001b[39m)\n",
      "File \u001b[0;32m~/projects/codingtheory/codingtheory/codingtheory/codingtheory.py:77\u001b[0m, in \u001b[0;36mcode_minimum_distance\u001b[0;34m(generating_polynomial, length, log)\u001b[0m\n\u001b[1;32m     74\u001b[0m \u001b[38;5;28;01mdef\u001b[39;00m \u001b[38;5;21mcode_minimum_distance\u001b[39m(generating_polynomial, length, log\u001b[38;5;241m=\u001b[39m\u001b[38;5;28;01mFalse\u001b[39;00m):\n\u001b[1;32m     75\u001b[0m     modulo_polynomial \u001b[38;5;241m=\u001b[39m \u001b[38;5;124m'\u001b[39m\u001b[38;5;124mx^\u001b[39m\u001b[38;5;124m'\u001b[39m\u001b[38;5;241m+\u001b[39m\u001b[38;5;28mstr\u001b[39m(length)\u001b[38;5;241m+\u001b[39m\u001b[38;5;124m'\u001b[39m\u001b[38;5;124m+1\u001b[39m\u001b[38;5;124m'\u001b[39m\n\u001b[0;32m---> 77\u001b[0m     gen_poly \u001b[38;5;241m=\u001b[39m \u001b[43mBinaryPolynomial\u001b[49m\u001b[43m(\u001b[49m\u001b[43mgenerating_polynomial\u001b[49m\u001b[43m)\u001b[49m\n\u001b[1;32m     78\u001b[0m     mod_poly \u001b[38;5;241m=\u001b[39m BinaryPolynomial(modulo_polynomial)\n\u001b[1;32m     80\u001b[0m     \u001b[38;5;28;01mif\u001b[39;00m log:\n",
      "File \u001b[0;32m~/projects/codingtheory/codingtheory/codingtheory/codingtheory.py:65\u001b[0m, in \u001b[0;36mBinaryPolynomial.__init__\u001b[0;34m(self, coeffs)\u001b[0m\n\u001b[1;32m     62\u001b[0m \u001b[38;5;28;01mif\u001b[39;00m is_polynomial(coeffs):\n\u001b[1;32m     63\u001b[0m     coeffs \u001b[38;5;241m=\u001b[39m get_polynomial_coefs(coeffs)\n\u001b[0;32m---> 65\u001b[0m \u001b[38;5;28;43msuper\u001b[39;49m\u001b[43m(\u001b[49m\u001b[43m)\u001b[49m\u001b[38;5;241;43m.\u001b[39;49m\u001b[38;5;21;43m__init__\u001b[39;49m\u001b[43m(\u001b[49m\u001b[43mcoeffs\u001b[49m\u001b[43m,\u001b[49m\u001b[43m \u001b[49m\u001b[43mfield\u001b[49m\u001b[38;5;241;43m=\u001b[39;49m\u001b[43mgalois\u001b[49m\u001b[38;5;241;43m.\u001b[39;49m\u001b[43mGF\u001b[49m\u001b[43m(\u001b[49m\u001b[38;5;241;43m2\u001b[39;49m\u001b[43m)\u001b[49m\u001b[43m)\u001b[49m\n",
      "File \u001b[0;32m/usr/local/lib/python3.10/dist-packages/galois/_polys/_poly.py:101\u001b[0m, in \u001b[0;36mPoly.__init__\u001b[0;34m(self, coeffs, field, order)\u001b[0m\n\u001b[1;32m     72\u001b[0m \u001b[38;5;28;01mdef\u001b[39;00m \u001b[38;5;21m__init__\u001b[39m(\n\u001b[1;32m     73\u001b[0m     \u001b[38;5;28mself\u001b[39m,\n\u001b[1;32m     74\u001b[0m     coeffs: ArrayLike,\n\u001b[1;32m     75\u001b[0m     field: \u001b[38;5;28mtype\u001b[39m[Array] \u001b[38;5;241m|\u001b[39m \u001b[38;5;28;01mNone\u001b[39;00m \u001b[38;5;241m=\u001b[39m \u001b[38;5;28;01mNone\u001b[39;00m,\n\u001b[1;32m     76\u001b[0m     order: Literal[\u001b[38;5;124m\"\u001b[39m\u001b[38;5;124mdesc\u001b[39m\u001b[38;5;124m\"\u001b[39m, \u001b[38;5;124m\"\u001b[39m\u001b[38;5;124masc\u001b[39m\u001b[38;5;124m\"\u001b[39m] \u001b[38;5;241m=\u001b[39m \u001b[38;5;124m\"\u001b[39m\u001b[38;5;124mdesc\u001b[39m\u001b[38;5;124m\"\u001b[39m,\n\u001b[1;32m     77\u001b[0m ):\n\u001b[1;32m     78\u001b[0m \u001b[38;5;250m    \u001b[39m\u001b[38;5;124mr\u001b[39m\u001b[38;5;124;03m\"\"\"\u001b[39;00m\n\u001b[1;32m     79\u001b[0m \u001b[38;5;124;03m    Creates a polynomial $f(x)$ over $\\mathrm{GF}(p^m)$.\u001b[39;00m\n\u001b[1;32m     80\u001b[0m \n\u001b[0;32m   (...)\u001b[0m\n\u001b[1;32m     99\u001b[0m \u001b[38;5;124;03m              i.e. $\\{a_0, a_1, \\dots,  a_{d-1}, a_d\\}$.\u001b[39;00m\n\u001b[1;32m    100\u001b[0m \u001b[38;5;124;03m    \"\"\"\u001b[39;00m\n\u001b[0;32m--> 101\u001b[0m     \u001b[43mverify_isinstance\u001b[49m\u001b[43m(\u001b[49m\u001b[43mcoeffs\u001b[49m\u001b[43m,\u001b[49m\u001b[43m \u001b[49m\u001b[43m(\u001b[49m\u001b[38;5;28;43mlist\u001b[39;49m\u001b[43m,\u001b[49m\u001b[43m \u001b[49m\u001b[38;5;28;43mtuple\u001b[39;49m\u001b[43m,\u001b[49m\u001b[43m \u001b[49m\u001b[43mnp\u001b[49m\u001b[38;5;241;43m.\u001b[39;49m\u001b[43mndarray\u001b[49m\u001b[43m,\u001b[49m\u001b[43m \u001b[49m\u001b[43mArray\u001b[49m\u001b[43m)\u001b[49m\u001b[43m)\u001b[49m\n\u001b[1;32m    102\u001b[0m     verify_issubclass(field, Array, optional\u001b[38;5;241m=\u001b[39m\u001b[38;5;28;01mTrue\u001b[39;00m)\n\u001b[1;32m    103\u001b[0m     verify_isinstance(order, \u001b[38;5;28mstr\u001b[39m)\n",
      "File \u001b[0;32m/usr/local/lib/python3.10/dist-packages/galois/_helper.py:24\u001b[0m, in \u001b[0;36mverify_isinstance\u001b[0;34m(argument, types, optional)\u001b[0m\n\u001b[1;32m     22\u001b[0m args \u001b[38;5;241m=\u001b[39m string[string\u001b[38;5;241m.\u001b[39mfind(\u001b[38;5;124m\"\u001b[39m\u001b[38;5;124m(\u001b[39m\u001b[38;5;124m\"\u001b[39m) \u001b[38;5;241m+\u001b[39m \u001b[38;5;241m1\u001b[39m : \u001b[38;5;241m-\u001b[39m\u001b[38;5;241m1\u001b[39m]\u001b[38;5;241m.\u001b[39msplit(\u001b[38;5;124m\"\u001b[39m\u001b[38;5;124m,\u001b[39m\u001b[38;5;124m\"\u001b[39m)\n\u001b[1;32m     23\u001b[0m argument_name \u001b[38;5;241m=\u001b[39m args[\u001b[38;5;241m0\u001b[39m]\n\u001b[0;32m---> 24\u001b[0m \u001b[38;5;28;01mraise\u001b[39;00m \u001b[38;5;167;01mTypeError\u001b[39;00m(\u001b[38;5;124mf\u001b[39m\u001b[38;5;124m\"\u001b[39m\u001b[38;5;124mArgument \u001b[39m\u001b[38;5;132;01m{\u001b[39;00margument_name\u001b[38;5;132;01m!r}\u001b[39;00m\u001b[38;5;124m must be an instance of \u001b[39m\u001b[38;5;132;01m{\u001b[39;00mtypes\u001b[38;5;132;01m}\u001b[39;00m\u001b[38;5;124m, not \u001b[39m\u001b[38;5;132;01m{\u001b[39;00m\u001b[38;5;28mtype\u001b[39m(argument)\u001b[38;5;132;01m}\u001b[39;00m\u001b[38;5;124m.\u001b[39m\u001b[38;5;124m\"\u001b[39m)\n",
      "\u001b[0;31mTypeError\u001b[0m: Argument 'coeffs' must be an instance of (<class 'list'>, <class 'tuple'>, <class 'numpy.ndarray'>, <class 'galois.Array'>), not <class 'str'>."
     ]
    }
   ],
   "source": [
    "code_diameter, multiplier = ct.code_minimum_distance(generating_polynomial, length, log=False)\n",
    "print(f\"code minimum distance d = {code_diameter} with multiplier m(x) = {multiplier}\")"
   ]
  },
  {
   "cell_type": "markdown",
   "id": "130b6bca-1723-489b-814d-1784cbd48f4f",
   "metadata": {},
   "source": [
    "# Detailed steps"
   ]
  },
  {
   "cell_type": "code",
   "execution_count": 11,
   "id": "f1ae9cc7-205e-4b74-8dcc-03f0ad7cc321",
   "metadata": {},
   "outputs": [
    {
     "ename": "TypeError",
     "evalue": "Argument 'coeffs' must be an instance of (<class 'list'>, <class 'tuple'>, <class 'numpy.ndarray'>, <class 'galois.Array'>), not <class 'str'>.",
     "output_type": "error",
     "traceback": [
      "\u001b[0;31m---------------------------------------------------------------------------\u001b[0m",
      "\u001b[0;31mTypeError\u001b[0m                                 Traceback (most recent call last)",
      "Cell \u001b[0;32mIn[11], line 3\u001b[0m\n\u001b[1;32m      1\u001b[0m modulo_polynomial \u001b[38;5;241m=\u001b[39m \u001b[38;5;124m'\u001b[39m\u001b[38;5;124mx^\u001b[39m\u001b[38;5;124m'\u001b[39m\u001b[38;5;241m+\u001b[39m\u001b[38;5;28mstr\u001b[39m(length)\u001b[38;5;241m+\u001b[39m\u001b[38;5;124m'\u001b[39m\u001b[38;5;124m+1\u001b[39m\u001b[38;5;124m'\u001b[39m\n\u001b[0;32m----> 3\u001b[0m gen_poly \u001b[38;5;241m=\u001b[39m \u001b[43mBinaryPolynomial\u001b[49m\u001b[43m(\u001b[49m\u001b[43mgenerating_polynomial\u001b[49m\u001b[43m)\u001b[49m\n\u001b[1;32m      4\u001b[0m mod_poly \u001b[38;5;241m=\u001b[39m BinaryPolynomial(modulo_polynomial)\n",
      "File \u001b[0;32m~/projects/codingtheory/codingtheory/codingtheory/codingtheory.py:65\u001b[0m, in \u001b[0;36mBinaryPolynomial.__init__\u001b[0;34m(self, coeffs)\u001b[0m\n\u001b[1;32m     62\u001b[0m \u001b[38;5;28;01mif\u001b[39;00m is_polynomial(coeffs):\n\u001b[1;32m     63\u001b[0m     coeffs \u001b[38;5;241m=\u001b[39m get_polynomial_coefs(coeffs)\n\u001b[0;32m---> 65\u001b[0m \u001b[38;5;28;43msuper\u001b[39;49m\u001b[43m(\u001b[49m\u001b[43m)\u001b[49m\u001b[38;5;241;43m.\u001b[39;49m\u001b[38;5;21;43m__init__\u001b[39;49m\u001b[43m(\u001b[49m\u001b[43mcoeffs\u001b[49m\u001b[43m,\u001b[49m\u001b[43m \u001b[49m\u001b[43mfield\u001b[49m\u001b[38;5;241;43m=\u001b[39;49m\u001b[43mgalois\u001b[49m\u001b[38;5;241;43m.\u001b[39;49m\u001b[43mGF\u001b[49m\u001b[43m(\u001b[49m\u001b[38;5;241;43m2\u001b[39;49m\u001b[43m)\u001b[49m\u001b[43m)\u001b[49m\n",
      "File \u001b[0;32m/usr/local/lib/python3.10/dist-packages/galois/_polys/_poly.py:101\u001b[0m, in \u001b[0;36mPoly.__init__\u001b[0;34m(self, coeffs, field, order)\u001b[0m\n\u001b[1;32m     72\u001b[0m \u001b[38;5;28;01mdef\u001b[39;00m \u001b[38;5;21m__init__\u001b[39m(\n\u001b[1;32m     73\u001b[0m     \u001b[38;5;28mself\u001b[39m,\n\u001b[1;32m     74\u001b[0m     coeffs: ArrayLike,\n\u001b[1;32m     75\u001b[0m     field: \u001b[38;5;28mtype\u001b[39m[Array] \u001b[38;5;241m|\u001b[39m \u001b[38;5;28;01mNone\u001b[39;00m \u001b[38;5;241m=\u001b[39m \u001b[38;5;28;01mNone\u001b[39;00m,\n\u001b[1;32m     76\u001b[0m     order: Literal[\u001b[38;5;124m\"\u001b[39m\u001b[38;5;124mdesc\u001b[39m\u001b[38;5;124m\"\u001b[39m, \u001b[38;5;124m\"\u001b[39m\u001b[38;5;124masc\u001b[39m\u001b[38;5;124m\"\u001b[39m] \u001b[38;5;241m=\u001b[39m \u001b[38;5;124m\"\u001b[39m\u001b[38;5;124mdesc\u001b[39m\u001b[38;5;124m\"\u001b[39m,\n\u001b[1;32m     77\u001b[0m ):\n\u001b[1;32m     78\u001b[0m \u001b[38;5;250m    \u001b[39m\u001b[38;5;124mr\u001b[39m\u001b[38;5;124;03m\"\"\"\u001b[39;00m\n\u001b[1;32m     79\u001b[0m \u001b[38;5;124;03m    Creates a polynomial $f(x)$ over $\\mathrm{GF}(p^m)$.\u001b[39;00m\n\u001b[1;32m     80\u001b[0m \n\u001b[0;32m   (...)\u001b[0m\n\u001b[1;32m     99\u001b[0m \u001b[38;5;124;03m              i.e. $\\{a_0, a_1, \\dots,  a_{d-1}, a_d\\}$.\u001b[39;00m\n\u001b[1;32m    100\u001b[0m \u001b[38;5;124;03m    \"\"\"\u001b[39;00m\n\u001b[0;32m--> 101\u001b[0m     \u001b[43mverify_isinstance\u001b[49m\u001b[43m(\u001b[49m\u001b[43mcoeffs\u001b[49m\u001b[43m,\u001b[49m\u001b[43m \u001b[49m\u001b[43m(\u001b[49m\u001b[38;5;28;43mlist\u001b[39;49m\u001b[43m,\u001b[49m\u001b[43m \u001b[49m\u001b[38;5;28;43mtuple\u001b[39;49m\u001b[43m,\u001b[49m\u001b[43m \u001b[49m\u001b[43mnp\u001b[49m\u001b[38;5;241;43m.\u001b[39;49m\u001b[43mndarray\u001b[49m\u001b[43m,\u001b[49m\u001b[43m \u001b[49m\u001b[43mArray\u001b[49m\u001b[43m)\u001b[49m\u001b[43m)\u001b[49m\n\u001b[1;32m    102\u001b[0m     verify_issubclass(field, Array, optional\u001b[38;5;241m=\u001b[39m\u001b[38;5;28;01mTrue\u001b[39;00m)\n\u001b[1;32m    103\u001b[0m     verify_isinstance(order, \u001b[38;5;28mstr\u001b[39m)\n",
      "File \u001b[0;32m/usr/local/lib/python3.10/dist-packages/galois/_helper.py:24\u001b[0m, in \u001b[0;36mverify_isinstance\u001b[0;34m(argument, types, optional)\u001b[0m\n\u001b[1;32m     22\u001b[0m args \u001b[38;5;241m=\u001b[39m string[string\u001b[38;5;241m.\u001b[39mfind(\u001b[38;5;124m\"\u001b[39m\u001b[38;5;124m(\u001b[39m\u001b[38;5;124m\"\u001b[39m) \u001b[38;5;241m+\u001b[39m \u001b[38;5;241m1\u001b[39m : \u001b[38;5;241m-\u001b[39m\u001b[38;5;241m1\u001b[39m]\u001b[38;5;241m.\u001b[39msplit(\u001b[38;5;124m\"\u001b[39m\u001b[38;5;124m,\u001b[39m\u001b[38;5;124m\"\u001b[39m)\n\u001b[1;32m     23\u001b[0m argument_name \u001b[38;5;241m=\u001b[39m args[\u001b[38;5;241m0\u001b[39m]\n\u001b[0;32m---> 24\u001b[0m \u001b[38;5;28;01mraise\u001b[39;00m \u001b[38;5;167;01mTypeError\u001b[39;00m(\u001b[38;5;124mf\u001b[39m\u001b[38;5;124m\"\u001b[39m\u001b[38;5;124mArgument \u001b[39m\u001b[38;5;132;01m{\u001b[39;00margument_name\u001b[38;5;132;01m!r}\u001b[39;00m\u001b[38;5;124m must be an instance of \u001b[39m\u001b[38;5;132;01m{\u001b[39;00mtypes\u001b[38;5;132;01m}\u001b[39;00m\u001b[38;5;124m, not \u001b[39m\u001b[38;5;132;01m{\u001b[39;00m\u001b[38;5;28mtype\u001b[39m(argument)\u001b[38;5;132;01m}\u001b[39;00m\u001b[38;5;124m.\u001b[39m\u001b[38;5;124m\"\u001b[39m)\n",
      "\u001b[0;31mTypeError\u001b[0m: Argument 'coeffs' must be an instance of (<class 'list'>, <class 'tuple'>, <class 'numpy.ndarray'>, <class 'galois.Array'>), not <class 'str'>."
     ]
    }
   ],
   "source": [
    "modulo_polynomial = 'x^'+str(length)+'+1'\n",
    "\n",
    "gen_poly = BinaryPolynomial(generating_polynomial)\n",
    "mod_poly = BinaryPolynomial(modulo_polynomial)"
   ]
  },
  {
   "cell_type": "code",
   "execution_count": 5,
   "id": "2d68a7d3-c437-4f1d-a34f-6841630215ef",
   "metadata": {},
   "outputs": [
    {
     "name": "stdout",
     "output_type": "stream",
     "text": [
      "cyclic code generating polynomial g(x) = x^4 + x^3 + x^2 + x + 1\n",
      "modulo polynomial P(x) = x^25 + 1\n"
     ]
    }
   ],
   "source": [
    "print(f\"cyclic code generating polynomial g(x) = {gen_poly}\")\n",
    "print(f\"modulo polynomial P(x) = {mod_poly}\")"
   ]
  },
  {
   "cell_type": "code",
   "execution_count": 6,
   "id": "7f985b3f-79a7-474f-b329-9a62b6d4e17c",
   "metadata": {},
   "outputs": [
    {
     "name": "stdout",
     "output_type": "stream",
     "text": [
      "upper bound - 5 with multiplier m(x) = 1\n"
     ]
    }
   ],
   "source": [
    "max_multiplier_degree = length - gen_poly.degree - 1\n",
    "codes_generator = ct.nonzero_binary_codes_with_length_n_generator(max_multiplier_degree+1)\n",
    "\n",
    "min_codeword_weight = gen_poly.weight\n",
    "suitable_multiplier = BinaryPolynomial(next(codes_generator))\n",
    "\n",
    "print(f\"upper bound - {min_codeword_weight} with multiplier m(x) = {str(suitable_multiplier)}\")"
   ]
  },
  {
   "cell_type": "code",
   "execution_count": 7,
   "id": "5e2ea471-40f5-4f58-a88e-039b0bfb73bb",
   "metadata": {},
   "outputs": [],
   "source": [
    "for _ in range(1, 2**max_multiplier_degree-1):\n",
    "    if min_codeword_weight == 2:\n",
    "        break\n",
    "\n",
    "    multiplier_coefs = next(codes_generator)\n",
    "    multiplier_polynomial = BinaryPolynomial(multiplier_coefs)\n",
    "    \n",
    "    codeword = multiplier_polynomial*gen_poly % mod_poly\n",
    "    codeword_weight = ct.get_codeword_weight(codeword)\n",
    "    \n",
    "    if codeword_weight < min_codeword_weight:\n",
    "        suitable_multiplier = multiplier_polynomial\n",
    "        min_codeword_weight = codeword_weight    "
   ]
  },
  {
   "cell_type": "code",
   "execution_count": 8,
   "id": "cc23efb2-bcad-4c3b-ba00-16fa88e66112",
   "metadata": {},
   "outputs": [
    {
     "name": "stdout",
     "output_type": "stream",
     "text": [
      "code minimum distance d = 2 with multiplier m(x) = x + 1\n"
     ]
    }
   ],
   "source": [
    "minimum_distance = min_codeword_weight\n",
    "print(f\"code minimum distance d = {minimum_distance} with multiplier m(x) = {suitable_multiplier}\")"
   ]
  }
 ],
 "metadata": {
  "kernelspec": {
   "display_name": "Python 3 (ipykernel)",
   "language": "python",
   "name": "python3"
  },
  "language_info": {
   "codemirror_mode": {
    "name": "ipython",
    "version": 3
   },
   "file_extension": ".py",
   "mimetype": "text/x-python",
   "name": "python",
   "nbconvert_exporter": "python",
   "pygments_lexer": "ipython3",
   "version": "3.10.12"
  }
 },
 "nbformat": 4,
 "nbformat_minor": 5
}
