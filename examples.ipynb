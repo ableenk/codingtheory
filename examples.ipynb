{
 "cells": [
  {
   "cell_type": "code",
   "execution_count": 1,
   "id": "8d61a19a-b5ba-4771-8cb4-d4ab11779cb5",
   "metadata": {},
   "outputs": [],
   "source": [
    "import numpy as np\n",
    "\n",
    "from codingtheory import codingtheory as ct\n",
    "from codingtheory.codingtheory import BinaryPolynomial"
   ]
  },
  {
   "cell_type": "code",
   "execution_count": 2,
   "id": "cca6b17f-fc5a-4065-bdd1-5abde7dcb43e",
   "metadata": {},
   "outputs": [],
   "source": [
    "# SET PARAMETERS, BE SHURE GENERATING POLYNOMIAL IS DIVIDING (X^length - 1)\n",
    "length = 25\n",
    "generating_polynomial = 'x^4+x^3+x^2+x+1'"
   ]
  },
  {
   "cell_type": "code",
   "execution_count": 3,
   "id": "b0966c5d-5564-4fcd-b131-72cb91b597f3",
   "metadata": {},
   "outputs": [
    {
     "name": "stdout",
     "output_type": "stream",
     "text": [
      "cyclic code generating polynomial g(x) = x^4 + x^3 + x^2 + x + 1\n",
      "cyclic code length = 25\n",
      "code minimum distance d = 2 with multiplier m(x) = x + 1\n"
     ]
    }
   ],
   "source": [
    "code_diameter, multiplier = ct.code_minimum_distance(generating_polynomial, length, log=True)"
   ]
  },
  {
   "cell_type": "markdown",
   "id": "130b6bca-1723-489b-814d-1784cbd48f4f",
   "metadata": {},
   "source": [
    "# Detailed steps"
   ]
  },
  {
   "cell_type": "code",
   "execution_count": 4,
   "id": "f1ae9cc7-205e-4b74-8dcc-03f0ad7cc321",
   "metadata": {},
   "outputs": [],
   "source": [
    "modulo_polynomial = 'x^'+str(length)+'+1'\n",
    "\n",
    "gen_poly = BinaryPolynomial(generating_polynomial)\n",
    "mod_poly = BinaryPolynomial(modulo_polynomial)"
   ]
  },
  {
   "cell_type": "code",
   "execution_count": 5,
   "id": "2d68a7d3-c437-4f1d-a34f-6841630215ef",
   "metadata": {},
   "outputs": [
    {
     "name": "stdout",
     "output_type": "stream",
     "text": [
      "cyclic code generating polynomial g(x) = x^4 + x^3 + x^2 + x + 1\n",
      "modulo polynomial P(x) = x^25 + 1\n"
     ]
    }
   ],
   "source": [
    "print(f\"cyclic code generating polynomial g(x) = {gen_poly}\")\n",
    "print(f\"modulo polynomial P(x) = {mod_poly}\")"
   ]
  },
  {
   "cell_type": "code",
   "execution_count": 6,
   "id": "7f985b3f-79a7-474f-b329-9a62b6d4e17c",
   "metadata": {},
   "outputs": [
    {
     "name": "stdout",
     "output_type": "stream",
     "text": [
      "upper bound - 5 with multiplier m(x) = 1\n"
     ]
    }
   ],
   "source": [
    "max_multiplier_degree = length - gen_poly.degree - 1\n",
    "codes_generator = ct.nonzero_binary_codes_with_length_n_generator(max_multiplier_degree+1)\n",
    "\n",
    "min_codeword_weight = gen_poly.weight\n",
    "suitable_multiplier = BinaryPolynomial(next(codes_generator))\n",
    "\n",
    "print(f\"upper bound - {min_codeword_weight} with multiplier m(x) = {str(suitable_multiplier)}\")"
   ]
  },
  {
   "cell_type": "code",
   "execution_count": 7,
   "id": "5e2ea471-40f5-4f58-a88e-039b0bfb73bb",
   "metadata": {},
   "outputs": [],
   "source": [
    "for _ in range(1, 2**max_multiplier_degree-1):\n",
    "    if min_codeword_weight == 2:\n",
    "        break\n",
    "\n",
    "    multiplier_coefs = next(codes_generator)\n",
    "    multiplier_polynomial = BinaryPolynomial(multiplier_coefs)\n",
    "    \n",
    "    codeword = multiplier_polynomial*gen_poly % mod_poly\n",
    "    codeword_weight = ct.get_codeword_weight(codeword)\n",
    "    \n",
    "    if codeword_weight < min_codeword_weight:\n",
    "        suitable_multiplier = multiplier_polynomial\n",
    "        min_codeword_weight = codeword_weight    "
   ]
  },
  {
   "cell_type": "code",
   "execution_count": 8,
   "id": "cc23efb2-bcad-4c3b-ba00-16fa88e66112",
   "metadata": {},
   "outputs": [
    {
     "name": "stdout",
     "output_type": "stream",
     "text": [
      "code minimum distance d = 2 with multiplier m(x) = x + 1\n"
     ]
    }
   ],
   "source": [
    "minimum_distance = min_codeword_weight\n",
    "print(f\"code minimum distance d = {minimum_distance} with multiplier m(x) = {suitable_multiplier}\")"
   ]
  }
 ],
 "metadata": {
  "kernelspec": {
   "display_name": "Python 3 (ipykernel)",
   "language": "python",
   "name": "python3"
  },
  "language_info": {
   "codemirror_mode": {
    "name": "ipython",
    "version": 3
   },
   "file_extension": ".py",
   "mimetype": "text/x-python",
   "name": "python",
   "nbconvert_exporter": "python",
   "pygments_lexer": "ipython3",
   "version": "3.10.12"
  }
 },
 "nbformat": 4,
 "nbformat_minor": 5
}
