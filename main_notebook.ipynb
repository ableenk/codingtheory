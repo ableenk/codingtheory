{
 "cells": [
  {
   "cell_type": "code",
   "execution_count": 1,
   "id": "8d61a19a-b5ba-4771-8cb4-d4ab11779cb5",
   "metadata": {},
   "outputs": [],
   "source": [
    "import numpy as np\n",
    "\n",
    "from codingtheory import codingtheory as ct\n",
    "from codingtheory.codingtheory import BinaryPolynomial"
   ]
  },
  {
   "cell_type": "code",
   "execution_count": 2,
   "id": "cca6b17f-fc5a-4065-bdd1-5abde7dcb43e",
   "metadata": {},
   "outputs": [],
   "source": [
    "# SET PARAMETERS, BE SHURE GENERATING POLYNOMIAL IS DIVIDING (X^length - 1)\n",
    "length = 25\n",
    "generating_polynomial = 'x^21+x^20+x^16+x^15+x^11+x^10+x^6+x^5+x+1'"
   ]
  },
  {
   "cell_type": "code",
   "execution_count": 3,
   "id": "f1ae9cc7-205e-4b74-8dcc-03f0ad7cc321",
   "metadata": {},
   "outputs": [],
   "source": [
    "mod_polynomial = 'x^'+str(length)+'+1'\n",
    "\n",
    "generating_polynomial_coefs = ct.get_polynomial_coefs(generating_polynomial)\n",
    "mod_polynomial_coefs = ct.get_polynomial_coefs(mod_polynomial)\n",
    "\n",
    "generating_polynomial = BinaryPolynomial(generating_polynomial_coefs)\n",
    "mod_polynomial = BinaryPolynomial(mod_polynomial_coefs)"
   ]
  },
  {
   "cell_type": "code",
   "execution_count": 4,
   "id": "2d68a7d3-c437-4f1d-a34f-6841630215ef",
   "metadata": {},
   "outputs": [
    {
     "name": "stdout",
     "output_type": "stream",
     "text": [
      "cyclic code generating polynomial g(x) = x^21 + x^20 + x^16 + x^15 + x^11 + x^10 + x^6 + x^5 + x + 1\n"
     ]
    }
   ],
   "source": [
    "print(f\"cyclic code generating polynomial g(x) = {generating_polynomial}\")"
   ]
  },
  {
   "cell_type": "code",
   "execution_count": 5,
   "id": "7f985b3f-79a7-474f-b329-9a62b6d4e17c",
   "metadata": {},
   "outputs": [
    {
     "name": "stdout",
     "output_type": "stream",
     "text": [
      "upper bound - 10 with multiplier m(x) = 1\n"
     ]
    }
   ],
   "source": [
    "max_multiplier_degree = length - generating_polynomial.degree() - 1\n",
    "codes_generator = ct.nonzero_binary_codes_with_length_n_generator(max_multiplier_degree+1)\n",
    "\n",
    "min_codeword_weight = generating_polynomial.weight\n",
    "suitable_multiplier = BinaryPolynomial(next(codes_generator)[::-1])\n",
    "\n",
    "print(f\"upper bound - {min_codeword_weight} with multiplier m(x) = {str(suitable_multiplier)}\")"
   ]
  },
  {
   "cell_type": "code",
   "execution_count": 6,
   "id": "5e2ea471-40f5-4f58-a88e-039b0bfb73bb",
   "metadata": {},
   "outputs": [],
   "source": [
    "for _ in range(1, 2**max_multiplier_degree-1):\n",
    "    if min_codeword_weight == 2:\n",
    "        break\n",
    "\n",
    "    multiplier_coefs = next(codes_generator)[::-1]\n",
    "    multiplier_polynomial = BinaryPolynomial(multiplier_coefs)\n",
    "    \n",
    "    codeword_coefs = (multiplier_polynomial*generating_polynomial % mod_polynomial).coef % 2\n",
    "    codeword = BinaryPolynomial(codeword_coefs)\n",
    "    \n",
    "    if codeword.weight < min_codeword_weight:\n",
    "        suitable_multiplier = multiplier_polynomial\n",
    "        min_codeword_weight = codeword.weight    "
   ]
  },
  {
   "cell_type": "code",
   "execution_count": 7,
   "id": "cc23efb2-bcad-4c3b-ba00-16fa88e66112",
   "metadata": {},
   "outputs": [
    {
     "name": "stdout",
     "output_type": "stream",
     "text": [
      "code minimum distance d = 10 with multiplier m(x) = 1\n"
     ]
    }
   ],
   "source": [
    "minimum_distance = min_codeword_weight\n",
    "print(f\"code minimum distance d = {minimum_distance} with multiplier m(x) = {str(suitable_multiplier)}\")"
   ]
  }
 ],
 "metadata": {
  "kernelspec": {
   "display_name": "Python 3 (ipykernel)",
   "language": "python",
   "name": "python3"
  },
  "language_info": {
   "codemirror_mode": {
    "name": "ipython",
    "version": 3
   },
   "file_extension": ".py",
   "mimetype": "text/x-python",
   "name": "python",
   "nbconvert_exporter": "python",
   "pygments_lexer": "ipython3",
   "version": "3.10.12"
  }
 },
 "nbformat": 4,
 "nbformat_minor": 5
}
